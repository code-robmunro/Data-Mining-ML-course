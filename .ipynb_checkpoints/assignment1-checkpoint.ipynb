{
 "cells": [
  {
   "cell_type": "markdown",
   "metadata": {},
   "source": [
    "### This assignment uses genre_seperated.dat in the subfolder movielens. It is not included in the repo as it exceeds github's file limit"
   ]
  },
  {
   "cell_type": "code",
   "execution_count": 106,
   "metadata": {
    "collapsed": true
   },
   "outputs": [],
   "source": [
    "import pandas as pd\n",
    "import numpy as np\n",
    "import matplotlib.pyplot as plt; plt.rcdefaults()\n",
    "\n",
    "columnnames = ['unused', 'user_id', 'movie_id', 'rating', 'timestamp', 'gender', 'age', 'occupation', 'zip', 'title', 'genre']\n",
    "data = pd.read_table('movielens/genre_seperated.dat', sep='\\t', header=None, names=columnnames, engine='python')\n",
    "data = data.drop(['unused'], axis=1)"
   ]
  },
  {
   "cell_type": "markdown",
   "metadata": {},
   "source": [
    "#### Aggregate movie ratings for genres"
   ]
  },
  {
   "cell_type": "code",
   "execution_count": 107,
   "metadata": {},
   "outputs": [
    {
     "data": {
      "text/html": [
       "<div>\n",
       "<style>\n",
       "    .dataframe thead tr:only-child th {\n",
       "        text-align: right;\n",
       "    }\n",
       "\n",
       "    .dataframe thead th {\n",
       "        text-align: left;\n",
       "    }\n",
       "\n",
       "    .dataframe tbody tr th {\n",
       "        vertical-align: top;\n",
       "    }\n",
       "</style>\n",
       "<table border=\"1\" class=\"dataframe\">\n",
       "  <thead>\n",
       "    <tr>\n",
       "      <th></th>\n",
       "      <th colspan=\"2\" halign=\"left\">rating</th>\n",
       "    </tr>\n",
       "    <tr>\n",
       "      <th></th>\n",
       "      <th>size</th>\n",
       "      <th>mean</th>\n",
       "    </tr>\n",
       "    <tr>\n",
       "      <th>genre</th>\n",
       "      <th></th>\n",
       "      <th></th>\n",
       "    </tr>\n",
       "  </thead>\n",
       "  <tbody>\n",
       "    <tr>\n",
       "      <th>Film-Noir</th>\n",
       "      <td>18261</td>\n",
       "      <td>4.075188</td>\n",
       "    </tr>\n",
       "    <tr>\n",
       "      <th>Documentary</th>\n",
       "      <td>7910</td>\n",
       "      <td>3.933123</td>\n",
       "    </tr>\n",
       "    <tr>\n",
       "      <th>War</th>\n",
       "      <td>68527</td>\n",
       "      <td>3.893327</td>\n",
       "    </tr>\n",
       "    <tr>\n",
       "      <th>Drama</th>\n",
       "      <td>354529</td>\n",
       "      <td>3.766332</td>\n",
       "    </tr>\n",
       "    <tr>\n",
       "      <th>Crime</th>\n",
       "      <td>79541</td>\n",
       "      <td>3.708679</td>\n",
       "    </tr>\n",
       "    <tr>\n",
       "      <th>Animation</th>\n",
       "      <td>43303</td>\n",
       "      <td>3.684895</td>\n",
       "    </tr>\n",
       "    <tr>\n",
       "      <th>Mystery</th>\n",
       "      <td>40178</td>\n",
       "      <td>3.668102</td>\n",
       "    </tr>\n",
       "    <tr>\n",
       "      <th>Musical</th>\n",
       "      <td>41533</td>\n",
       "      <td>3.665519</td>\n",
       "    </tr>\n",
       "    <tr>\n",
       "      <th>Western</th>\n",
       "      <td>20683</td>\n",
       "      <td>3.637770</td>\n",
       "    </tr>\n",
       "    <tr>\n",
       "      <th>Romance</th>\n",
       "      <td>147523</td>\n",
       "      <td>3.607465</td>\n",
       "    </tr>\n",
       "  </tbody>\n",
       "</table>\n",
       "</div>"
      ],
      "text/plain": [
       "             rating          \n",
       "               size      mean\n",
       "genre                        \n",
       "Film-Noir     18261  4.075188\n",
       "Documentary    7910  3.933123\n",
       "War           68527  3.893327\n",
       "Drama        354529  3.766332\n",
       "Crime         79541  3.708679\n",
       "Animation     43303  3.684895\n",
       "Mystery       40178  3.668102\n",
       "Musical       41533  3.665519\n",
       "Western       20683  3.637770\n",
       "Romance      147523  3.607465"
      ]
     },
     "execution_count": 107,
     "metadata": {},
     "output_type": "execute_result"
    }
   ],
   "source": [
    "movie_stats = data.groupby('genre').agg({'rating': [np.size, np.mean]})\n",
    "movie_stats.head()\n",
    "movie_stats.sort_values([('rating', 'mean')], ascending=False).head(10)"
   ]
  },
  {
   "cell_type": "markdown",
   "metadata": {},
   "source": [
    "#### Top 5 ranked genres for females"
   ]
  },
  {
   "cell_type": "code",
   "execution_count": 108,
   "metadata": {},
   "outputs": [
    {
     "data": {
      "text/html": [
       "<div>\n",
       "<style>\n",
       "    .dataframe thead tr:only-child th {\n",
       "        text-align: right;\n",
       "    }\n",
       "\n",
       "    .dataframe thead th {\n",
       "        text-align: left;\n",
       "    }\n",
       "\n",
       "    .dataframe tbody tr th {\n",
       "        vertical-align: top;\n",
       "    }\n",
       "</style>\n",
       "<table border=\"1\" class=\"dataframe\">\n",
       "  <thead>\n",
       "    <tr style=\"text-align: right;\">\n",
       "      <th>gender</th>\n",
       "      <th>F</th>\n",
       "    </tr>\n",
       "    <tr>\n",
       "      <th>genre</th>\n",
       "      <th></th>\n",
       "    </tr>\n",
       "  </thead>\n",
       "  <tbody>\n",
       "    <tr>\n",
       "      <th>Film-Noir</th>\n",
       "      <td>4.018087</td>\n",
       "    </tr>\n",
       "    <tr>\n",
       "      <th>Documentary</th>\n",
       "      <td>3.946392</td>\n",
       "    </tr>\n",
       "    <tr>\n",
       "      <th>War</th>\n",
       "      <td>3.893138</td>\n",
       "    </tr>\n",
       "    <tr>\n",
       "      <th>Musical</th>\n",
       "      <td>3.809108</td>\n",
       "    </tr>\n",
       "    <tr>\n",
       "      <th>Drama</th>\n",
       "      <td>3.765662</td>\n",
       "    </tr>\n",
       "  </tbody>\n",
       "</table>\n",
       "</div>"
      ],
      "text/plain": [
       "gender              F\n",
       "genre                \n",
       "Film-Noir    4.018087\n",
       "Documentary  3.946392\n",
       "War          3.893138\n",
       "Musical      3.809108\n",
       "Drama        3.765662"
      ]
     },
     "execution_count": 108,
     "metadata": {},
     "output_type": "execute_result"
    }
   ],
   "source": [
    "mean_ratings = data.pivot_table('rating', index='genre', columns='gender', aggfunc='mean')\n",
    "top_female_ratings = mean_ratings.sort_values(by='F', ascending=False)\n",
    "top_female_ratings = top_female_ratings.drop(['M'], axis=1)\n",
    "\n",
    "top_female_ratings[:5]"
   ]
  },
  {
   "cell_type": "markdown",
   "metadata": {},
   "source": [
    "#### Top 5 ranked genres for males"
   ]
  },
  {
   "cell_type": "code",
   "execution_count": 109,
   "metadata": {},
   "outputs": [
    {
     "data": {
      "text/html": [
       "<div>\n",
       "<style>\n",
       "    .dataframe thead tr:only-child th {\n",
       "        text-align: right;\n",
       "    }\n",
       "\n",
       "    .dataframe thead th {\n",
       "        text-align: left;\n",
       "    }\n",
       "\n",
       "    .dataframe tbody tr th {\n",
       "        vertical-align: top;\n",
       "    }\n",
       "</style>\n",
       "<table border=\"1\" class=\"dataframe\">\n",
       "  <thead>\n",
       "    <tr style=\"text-align: right;\">\n",
       "      <th>gender</th>\n",
       "      <th>M</th>\n",
       "    </tr>\n",
       "    <tr>\n",
       "      <th>genre</th>\n",
       "      <th></th>\n",
       "    </tr>\n",
       "  </thead>\n",
       "  <tbody>\n",
       "    <tr>\n",
       "      <th>Film-Noir</th>\n",
       "      <td>4.092254</td>\n",
       "    </tr>\n",
       "    <tr>\n",
       "      <th>Documentary</th>\n",
       "      <td>3.928811</td>\n",
       "    </tr>\n",
       "    <tr>\n",
       "      <th>War</th>\n",
       "      <td>3.893375</td>\n",
       "    </tr>\n",
       "    <tr>\n",
       "      <th>Drama</th>\n",
       "      <td>3.766589</td>\n",
       "    </tr>\n",
       "    <tr>\n",
       "      <th>Crime</th>\n",
       "      <td>3.713720</td>\n",
       "    </tr>\n",
       "  </tbody>\n",
       "</table>\n",
       "</div>"
      ],
      "text/plain": [
       "gender              M\n",
       "genre                \n",
       "Film-Noir    4.092254\n",
       "Documentary  3.928811\n",
       "War          3.893375\n",
       "Drama        3.766589\n",
       "Crime        3.713720"
      ]
     },
     "execution_count": 109,
     "metadata": {},
     "output_type": "execute_result"
    }
   ],
   "source": [
    "top_male_ratings = mean_ratings.sort_values(by='M', ascending=False)\n",
    "top_male_ratings = top_male_ratings.drop(['F'], axis=1)\n",
    "\n",
    "top_male_ratings[:5]"
   ]
  },
  {
   "cell_type": "markdown",
   "metadata": {},
   "source": [
    "#### Average movie rating by binned age group for A Space Odyssey (1968)"
   ]
  },
  {
   "cell_type": "code",
   "execution_count": 110,
   "metadata": {},
   "outputs": [
    {
     "name": "stdout",
     "output_type": "stream",
     "text": [
      "age_group\n",
      "0-9      4.150000\n",
      "10-19    3.923404\n",
      "20-29    4.024712\n",
      "30-39    4.080940\n",
      "40-49    4.168478\n",
      "50-59    4.198502\n",
      "60-69         NaN\n",
      "70-79         NaN\n",
      "Name: rating, dtype: float64\n"
     ]
    }
   ],
   "source": [
    "# Limit our movie selection to ones with more than 50 ratings.\n",
    "most_50 = data.groupby('movie_id').size().sort_values(ascending=False)[:50]\n",
    "\n",
    "# Setup age-bin labels\n",
    "labels = ['0-9', '10-19', '20-29', '30-39', '40-49', '50-59', '60-69', '70-79']\n",
    "\n",
    "# Cut the data into groups from age 0 to 81 with the above labels\n",
    "age_cut = data.copy(True)\n",
    "age_cut['age_group'] = pd.cut(age_cut.age, range(0, 81, 10), right=False, labels=labels)\n",
    "\n",
    "# Clean up duplicates\n",
    "age_cut[['age', 'age_group']].drop_duplicates()\n",
    "\n",
    "# Aggregate data by rating mean for each group\n",
    "age_cut.groupby('age_group').agg({'rating': [np.size, np.mean]})\n",
    "age_cut.set_index('movie_id', inplace=True)\n",
    "\n",
    "# Create a new grouping by title and age_group\n",
    "by_age = age_cut.loc[most_50.index].groupby(['title', 'age_group'])\n",
    "\n",
    "# Use a lambda to check each group for belonging to the title we wish to look at\n",
    "result = by_age.apply(lambda g: g[g['title'] == '2001: A Space Odyssey (1968)'])\n",
    "result[['age_group', 'rating']].drop_duplicates()\n",
    "\n",
    "# Collapse the result again so we just get the means for each age group\n",
    "groupby_age_group = result['rating'].groupby(result['age_group']).mean()\n",
    "\n",
    "# Finally display the result\n",
    "print(groupby_age_group)"
   ]
  },
  {
   "cell_type": "markdown",
   "metadata": {},
   "source": [
    "#### Samerating(user_id, movie_id):\n",
    "##### Given a user and a movie\n",
    "##### Returns a list of users that also gave the same rating to the movie"
   ]
  },
  {
   "cell_type": "code",
   "execution_count": 111,
   "metadata": {},
   "outputs": [
    {
     "data": {
      "text/plain": [
       "92482     1\n",
       "92491     9\n",
       "92494    10\n",
       "92500    19\n",
       "92515    34\n",
       "92518    36\n",
       "92521    38\n",
       "92524    44\n",
       "92533    49\n",
       "92536    51\n",
       "Name: user_id, dtype: int64"
      ]
     },
     "execution_count": 111,
     "metadata": {},
     "output_type": "execute_result"
    }
   ],
   "source": [
    "def samerating(user, movie):\n",
    "    # First get all the ratings for this movie\n",
    "    ratings = data[data['movie_id'] == movie].drop_duplicates()\n",
    "    \n",
    "    # Retrieve the value the caller rated this movie as\n",
    "    caller_rating = ratings[ratings['user_id'] == user].rating.drop_duplicates()\n",
    "    \n",
    "    # Return a list of users from the filtered ratings list of only users that match the caller's rating\n",
    "    return ratings[ratings['rating'] == caller_rating.mean()].user_id.drop_duplicates();\n",
    "\n",
    "\n",
    "# Test the function, returning just the first 10 matching users\n",
    "samerating(1, 1).head(10)"
   ]
  },
  {
   "cell_type": "markdown",
   "metadata": {},
   "source": [
    "#### Horror movie ratings through age groups\n",
    "#### This bar graph is pretty boring but it did reflect what I thought would be the case. In that, when I was younger than 10, I loved horror movies but in my teens they became more frightening and I would expect a decrease in rating, and finally today I can appreciate them more and we can observe a static rating across many ages. However, these are minor fluctuations."
   ]
  },
  {
   "cell_type": "code",
   "execution_count": 119,
   "metadata": {
    "scrolled": false
   },
   "outputs": [
    {
     "name": "stdout",
     "output_type": "stream",
     "text": [
      "age_group\n",
      "0-9      3.728571\n",
      "10-19    3.602362\n",
      "20-29    3.864760\n",
      "30-39    3.878989\n",
      "40-49    3.898246\n",
      "50-59    3.899425\n",
      "60-69         NaN\n",
      "70-79         NaN\n",
      "Name: rating, dtype: float64\n"
     ]
    },
    {
     "data": {
      "image/png": "[encoded data removed]",
      "text/plain": [
       "<matplotlib.figure.Figure at 0x199d0292710>"
      ]
     },
     "metadata": {},
     "output_type": "display_data"
    }
   ],
   "source": [
    "# Limit our movie selection to ones with more than 50 ratings.\n",
    "most_50 = data.groupby('movie_id').size().sort_values(ascending=False)[:50]\n",
    "\n",
    "# Setup age-bin labels\n",
    "labels = ['0-9', '10-19', '20-29', '30-39', '40-49', '50-59', '60-69', '70-79']\n",
    "\n",
    "# Cut the data into groups from age 0 to 81 with the above labels\n",
    "age_cut = data.copy(True)\n",
    "age_cut['age_group'] = pd.cut(age_cut.age, range(0, 81, 10), right=False, labels=labels)\n",
    "\n",
    "# Clean up duplicates\n",
    "age_cut[['age', 'age_group']].drop_duplicates()\n",
    "\n",
    "# Aggregate data by rating mean for each group\n",
    "age_cut.groupby('age_group').agg({'rating': [np.size, np.mean]})\n",
    "age_cut.set_index('movie_id', inplace=True)\n",
    "\n",
    "# Create a new grouping by title and age_group\n",
    "by_age = age_cut.loc[most_50.index].groupby(['genre', 'age_group'])\n",
    "\n",
    "# Use a lambda to check each group for belonging to the title we wish to look at\n",
    "result = by_age.apply(lambda g: g[g['genre'] == 'Horror'])\n",
    "result[['age_group', 'rating']].drop_duplicates()\n",
    "\n",
    "# Collapse the result again so we just get the means for each age group\n",
    "groupby_age_group = result['rating'].groupby(result['age_group']).mean()\n",
    "\n",
    "# Finally display the result\n",
    "print(groupby_age_group)\n",
    "\n",
    "objects = ('0-9', '10-19', '20-29', '30-39', '40-49', '50-59', '60-69', '70-79')\n",
    "y_pos = np.arange(len(objects))\n",
    " \n",
    "plt.bar(y_pos, groupby_age_group, align='center', alpha=0.5)\n",
    "plt.xticks(y_pos, objects)\n",
    "plt.ylabel('Age Bins')\n",
    "plt.title('Horror Genre')\n",
    " \n",
    "plt.show()"
   ]
  },
  {
   "cell_type": "markdown",
   "metadata": {},
   "source": [
    "### Grade: 100/100\n",
    "> 1. 10/10\n",
    "2. 10/10\n",
    "3. 10/10\n",
    "4. 20/20\n",
    "5. 30/30\n",
    "6. 20/20\n",
    "\n",
    "Well done!"
   ]
  }
 ],
 "metadata": {
  "kernelspec": {
   "display_name": "Python 2",
   "language": "python",
   "name": "python2"
  },
  "language_info": {
   "codemirror_mode": {
    "name": "ipython",
    "version": 2
   },
   "file_extension": ".py",
   "mimetype": "text/x-python",
   "name": "python",
   "nbconvert_exporter": "python",
   "pygments_lexer": "ipython2",
   "version": "2.7.13"
  }
 },
 "nbformat": 4,
 "nbformat_minor": 2
}
